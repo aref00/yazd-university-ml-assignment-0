{
 "cells": [
  {
   "attachments": {},
   "cell_type": "markdown",
   "id": "27373320",
   "metadata": {},
   "source": [
    "## MACHINE LEARNING\n",
    "### FROM [YOUTUBE](https://www.youtube.com/watch?v=7eh4d6sabA0&t=111s) VIDEO"
   ]
  },
  {
   "attachments": {},
   "cell_type": "markdown",
   "id": "8a4276b2",
   "metadata": {},
   "source": [
    "TRAINES A MODEL AND RETURNS SCORE OF PREDICTION RESULTS"
   ]
  },
  {
   "cell_type": "code",
   "execution_count": 18,
   "id": "796c4473",
   "metadata": {},
   "outputs": [
    {
     "data": {
      "text/plain": [
       "1.0"
      ]
     },
     "execution_count": 18,
     "metadata": {},
     "output_type": "execute_result"
    }
   ],
   "source": [
    "import pandas as pd\n",
    "from sklearn.tree import DecisionTreeClassifier\n",
    "from sklearn.model_selection import train_test_split\n",
    "from sklearn.metrics import accuracy_score\n",
    "\n",
    "music_data = pd.read_csv('music.csv')\n",
    "X = music_data.drop(columns=['genre'])\n",
    "y = music_data['genre']\n",
    "X_train, X_test, y_train, y_test = train_test_split(X, y, test_size=0.2)\n",
    "\n",
    "model = DecisionTreeClassifier()\n",
    "model.fit(X_train, y_train)\n",
    "predictions = model.predict(X_test)\n",
    "score = accuracy_score(y_test, predictions)\n",
    "score"
   ]
  },
  {
   "attachments": {},
   "cell_type": "markdown",
   "id": "7cb4668f",
   "metadata": {},
   "source": [
    "CODE BELOW SAVES MODEL TO A joblib FILE"
   ]
  },
  {
   "cell_type": "code",
   "execution_count": 22,
   "id": "97770fe6",
   "metadata": {},
   "outputs": [
    {
     "data": {
      "text/plain": [
       "['recomender.joblib']"
      ]
     },
     "execution_count": 22,
     "metadata": {},
     "output_type": "execute_result"
    }
   ],
   "source": [
    "import pandas as pd\n",
    "from sklearn.tree import DecisionTreeClassifier\n",
    "from sklearn.model_selection import train_test_split\n",
    "from sklearn.metrics import accuracy_score\n",
    "import joblib\n",
    "\n",
    "music_data = pd.read_csv('music.csv')\n",
    "X = music_data.drop(columns=['genre'])\n",
    "y = music_data['genre']\n",
    "\n",
    "model = DecisionTreeClassifier()\n",
    "model.fit(X, y)\n",
    "joblib.dump(model, 'recomender.joblib')\n",
    "# predictions = model.predict([[21 1]])\n"
   ]
  },
  {
   "attachments": {},
   "cell_type": "markdown",
   "id": "1c5cfc93",
   "metadata": {},
   "source": [
    "CODE BELOW LOADS MODEL FROM joblib FILE"
   ]
  },
  {
   "cell_type": "code",
   "execution_count": 24,
   "id": "f9916276",
   "metadata": {},
   "outputs": [
    {
     "name": "stderr",
     "output_type": "stream",
     "text": [
      "/home/aref/anaconda3/lib/python3.9/site-packages/sklearn/base.py:450: UserWarning: X does not have valid feature names, but DecisionTreeClassifier was fitted with feature names\n",
      "  warnings.warn(\n"
     ]
    },
    {
     "data": {
      "text/plain": [
       "array(['HipHop'], dtype=object)"
      ]
     },
     "execution_count": 24,
     "metadata": {},
     "output_type": "execute_result"
    }
   ],
   "source": [
    "import pandas as pd\n",
    "from sklearn.tree import DecisionTreeClassifier\n",
    "from sklearn.model_selection import train_test_split\n",
    "from sklearn.metrics import accuracy_score\n",
    "import joblib\n",
    "\n",
    "model = joblib.load('recomender.joblib')\n",
    "predictions = model.predict([[21, 1]])\n",
    "predictions\n"
   ]
  },
  {
   "attachments": {},
   "cell_type": "markdown",
   "id": "f2333489",
   "metadata": {},
   "source": [
    "CODE BELOW SAVES A DOT FILE THAT VISUALIZES MODEL"
   ]
  },
  {
   "cell_type": "code",
   "execution_count": 27,
   "id": "a361fd5e",
   "metadata": {},
   "outputs": [],
   "source": [
    "import pandas as pd\n",
    "from sklearn.tree import DecisionTreeClassifier\n",
    "from sklearn.model_selection import train_test_split\n",
    "from sklearn import tree\n",
    "import joblib\n",
    "\n",
    "music_data = pd.read_csv('music.csv')\n",
    "X = music_data.drop(columns=['genre'])\n",
    "y = music_data['genre']\n",
    "\n",
    "model = DecisionTreeClassifier()\n",
    "model.fit(X, y)\n",
    "\n",
    "tree.export_graphviz(model, out_file='recomender.dot', feature_names=['age', 'gender'],\n",
    "                    class_names=sorted(y.unique()), label='all', rounded=True, filled=True)"
   ]
  }
 ],
 "metadata": {
  "kernelspec": {
   "display_name": "Python 3 (ipykernel)",
   "language": "python",
   "name": "python3"
  },
  "language_info": {
   "codemirror_mode": {
    "name": "ipython",
    "version": 3
   },
   "file_extension": ".py",
   "mimetype": "text/x-python",
   "name": "python",
   "nbconvert_exporter": "python",
   "pygments_lexer": "ipython3",
   "version": "3.9.13"
  }
 },
 "nbformat": 4,
 "nbformat_minor": 5
}
